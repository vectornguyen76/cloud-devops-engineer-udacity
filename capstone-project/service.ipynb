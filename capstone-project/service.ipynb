{
 "cells": [
  {
   "cell_type": "code",
   "execution_count": 1,
   "metadata": {},
   "outputs": [
    {
     "name": "stderr",
     "output_type": "stream",
     "text": [
      "/home/vectornguyen76/anaconda3/envs/bentoml/lib/python3.9/site-packages/skl2onnx/algebra/onnx_ops.py:159: UserWarning: OpSchema.FormalParameter.typeStr is deprecated and will be removed in 1.16. Use OpSchema.FormalParameter.type_str instead.\n",
      "  tys = obj.typeStr or ''\n",
      "/home/vectornguyen76/anaconda3/envs/bentoml/lib/python3.9/site-packages/skl2onnx/algebra/automation.py:154: UserWarning: OpSchema.FormalParameter.isHomogeneous is deprecated and will be removed in 1.16. Use OpSchema.FormalParameter.is_homogeneous instead.\n",
      "  if getattr(obj, 'isHomogeneous', False):\n",
      "/home/vectornguyen76/anaconda3/envs/bentoml/lib/python3.9/site-packages/jinja2/environment.py:485: UserWarning: OpSchema.FormalParameter.typeStr is deprecated and will be removed in 1.16. Use OpSchema.FormalParameter.type_str instead.\n",
      "  return getattr(obj, attribute)\n"
     ]
    }
   ],
   "source": [
    "from skl2onnx import update_registered_converter\n",
    "from lightgbm import LGBMClassifier\n",
    "from skl2onnx.common.shape_calculator import calculate_linear_classifier_output_shapes\n",
    "from onnxmltools.convert.lightgbm.operator_converters.LightGbm import convert_lightgbm\n",
    "from skl2onnx.common.data_types import FloatTensorType\n",
    "from sklearn.pipeline import Pipeline\n",
    "import pickle\n",
    "import bentoml\n",
    "from skl2onnx import convert_sklearn\n",
    "\n",
    "update_registered_converter(\n",
    "    LGBMClassifier, \"LightGbmLGBMClassifier\",\n",
    "    calculate_linear_classifier_output_shapes, convert_lightgbm,\n",
    "    options={'nocl': [True, False], 'zipmap': [True, False, 'columns']}\n",
    ")"
   ]
  },
  {
   "cell_type": "code",
   "execution_count": 2,
   "metadata": {},
   "outputs": [
    {
     "data": {
      "text/plain": [
       "Model(tag=\"onnx_bentoml_model_2:3vfgjgawlgpqhi5a\", path=\"/home/vectornguyen76/bentoml/models/onnx_bentoml_model_2/3vfgjgawlgpqhi5a/\")"
      ]
     },
     "execution_count": 2,
     "metadata": {},
     "output_type": "execute_result"
    }
   ],
   "source": [
    "# Load model pkl\n",
    "model1 = pickle.load(open(\"./prob1/prob_1_model.pkl\", \"rb\"))\n",
    "model2 = pickle.load(open(\"./prob2/prob_2_model.pkl\", \"rb\"))\n",
    "\n",
    "# Load pineline\n",
    "pipeline1 = Pipeline([('lgbm', model1)])\n",
    "pipeline2 = Pipeline([('lgbm', model2)])\n",
    "\n",
    "# Convert model to onnx\n",
    "model_onnx1 = convert_sklearn(\n",
    "    pipeline1, 'pipeline_lightgbm',\n",
    "    [('input', FloatTensorType([None, 16]))],\n",
    "    target_opset={'': 12, 'ai.onnx.ml': 2}\n",
    ")\n",
    "model_onnx2 = convert_sklearn(\n",
    "    pipeline2, 'pipeline_lightgbm',\n",
    "    [('input', FloatTensorType([None, 20]))],\n",
    "    target_opset={'': 12, 'ai.onnx.ml': 2}\n",
    ")\n",
    "\n",
    "# Create signatures\n",
    "signatures = {\n",
    "    \"run\": {\"batchable\": True},\n",
    "    \n",
    "}\n",
    "\n",
    "# Save model onnx to bentoml model\n",
    "bentoml.onnx.save_model(\"onnx_bentoml_model_1\", model_onnx1, signatures=signatures)\n",
    "bentoml.onnx.save_model(\"onnx_bentoml_model_2\", model_onnx2, signatures=signatures)"
   ]
  }
 ],
 "metadata": {
  "kernelspec": {
   "display_name": "bentoml",
   "language": "python",
   "name": "python3"
  },
  "language_info": {
   "codemirror_mode": {
    "name": "ipython",
    "version": 3
   },
   "file_extension": ".py",
   "mimetype": "text/x-python",
   "name": "python",
   "nbconvert_exporter": "python",
   "pygments_lexer": "ipython3",
   "version": "3.9.16"
  },
  "orig_nbformat": 4
 },
 "nbformat": 4,
 "nbformat_minor": 2
}
